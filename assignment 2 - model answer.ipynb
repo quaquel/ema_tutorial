{
 "cells": [
  {
   "cell_type": "markdown",
   "metadata": {},
   "source": [
    "# Lake model continued\n",
    "\n",
    "In the previous week you used the lake problem as a means of getting aquinted with the workbench. In this assignment we will continue with the lake problem, focussing explicitly on using it for open exploration. You can use the second part of [this tutorial](https://emaworkbench.readthedocs.io/en/latest/indepth_tutorial/open-exploration.html) for help.\n",
    "\n",
    "**It is paramount that you are using the lake problem with 100 decision variables, rather than the one found on the website with the seperate anthropogenic release decision**\n",
    "\n",
    "## Apply scenario discovery\n",
    "\n",
    "1. Generate 10 policies and 1000 scenarios and evaluate them.\n"
   ]
  },
  {
   "cell_type": "code",
   "execution_count": 1,
   "metadata": {},
   "outputs": [],
   "source": [
    "from lakemodel_function import lake_problem\n",
    "\n",
    "from ema_workbench import (Model, RealParameter, ScalarOutcome)\n",
    "\n",
    "#instantiate the model\n",
    "lake_model = Model('lakeproblem', function=lake_problem)\n",
    "lake_model.time_horizon = 100 # used to specify the number of timesteps\n",
    "\n",
    "#specify uncertainties\n",
    "lake_model.uncertainties = [RealParameter('mean', 0.01, 0.05),\n",
    "                            RealParameter('stdev', 0.001, 0.005),\n",
    "                            RealParameter('b', 0.1, 0.45),\n",
    "                            RealParameter('q', 2.0, 4.5),\n",
    "                            RealParameter('delta', 0.93, 0.99)]\n",
    "\n",
    "# set levers, one for each time step\n",
    "lake_model.levers = [RealParameter(str(i), 0, 0.1) for i in \n",
    "                     range(lake_model.time_horizon)] # we use time_horizon here\n",
    "\n",
    "#specify outcomes \n",
    "lake_model.outcomes = [ScalarOutcome('max_P'),\n",
    "                       ScalarOutcome('utility'),\n",
    "                       ScalarOutcome('inertia'),\n",
    "                       ScalarOutcome('reliability')]"
   ]
  },
  {
   "cell_type": "code",
   "execution_count": 2,
   "metadata": {},
   "outputs": [
    {
     "name": "stderr",
     "output_type": "stream",
     "text": [
      "[MainProcess/INFO] pool started\n",
      "[MainProcess/INFO] performing 1000 scenarios * 10 policies * 1 model(s) = 10000 experiments\n",
      "[MainProcess/INFO] 1000 cases completed\n",
      "[MainProcess/INFO] 2000 cases completed\n",
      "[MainProcess/INFO] 3000 cases completed\n",
      "[MainProcess/INFO] 4000 cases completed\n",
      "[MainProcess/INFO] 5000 cases completed\n",
      "[MainProcess/INFO] 6000 cases completed\n",
      "[MainProcess/INFO] 7000 cases completed\n",
      "[MainProcess/INFO] 8000 cases completed\n",
      "[MainProcess/INFO] 9000 cases completed\n",
      "[MainProcess/INFO] 10000 cases completed\n",
      "[MainProcess/INFO] experiments finished\n",
      "[MainProcess/INFO] terminating pool\n"
     ]
    }
   ],
   "source": [
    "from ema_workbench import MultiprocessingEvaluator, ema_logging\n",
    "\n",
    "ema_logging.log_to_stderr(ema_logging.INFO)\n",
    "\n",
    "n_scenarios = 1000\n",
    "n_policies = 10\n",
    "\n",
    "with MultiprocessingEvaluator(lake_model) as evaluator:\n",
    "    results = evaluator.perform_experiments(n_scenarios, n_policies)"
   ]
  },
  {
   "cell_type": "markdown",
   "metadata": {},
   "source": [
    "2. The experiments array contains the values for each of the 100 decision levers. This might easily mess up the analysis. Remove these columns from the experiment array. *hint: use `experiments.drop`*"
   ]
  },
  {
   "cell_type": "code",
   "execution_count": 3,
   "metadata": {},
   "outputs": [],
   "source": [
    "experiments, outcomes = results"
   ]
  },
  {
   "cell_type": "code",
   "execution_count": 4,
   "metadata": {},
   "outputs": [
    {
     "data": {
      "text/html": [
       "<div>\n",
       "<style scoped>\n",
       "    .dataframe tbody tr th:only-of-type {\n",
       "        vertical-align: middle;\n",
       "    }\n",
       "\n",
       "    .dataframe tbody tr th {\n",
       "        vertical-align: top;\n",
       "    }\n",
       "\n",
       "    .dataframe thead th {\n",
       "        text-align: right;\n",
       "    }\n",
       "</style>\n",
       "<table border=\"1\" class=\"dataframe\">\n",
       "  <thead>\n",
       "    <tr style=\"text-align: right;\">\n",
       "      <th></th>\n",
       "      <th>b</th>\n",
       "      <th>delta</th>\n",
       "      <th>mean</th>\n",
       "      <th>q</th>\n",
       "      <th>stdev</th>\n",
       "      <th>0</th>\n",
       "      <th>1</th>\n",
       "      <th>10</th>\n",
       "      <th>11</th>\n",
       "      <th>12</th>\n",
       "      <th>...</th>\n",
       "      <th>93</th>\n",
       "      <th>94</th>\n",
       "      <th>95</th>\n",
       "      <th>96</th>\n",
       "      <th>97</th>\n",
       "      <th>98</th>\n",
       "      <th>99</th>\n",
       "      <th>scenario</th>\n",
       "      <th>policy</th>\n",
       "      <th>model</th>\n",
       "    </tr>\n",
       "  </thead>\n",
       "  <tbody>\n",
       "    <tr>\n",
       "      <th>0</th>\n",
       "      <td>0.226224</td>\n",
       "      <td>0.970547</td>\n",
       "      <td>0.027319</td>\n",
       "      <td>3.872903</td>\n",
       "      <td>0.002965</td>\n",
       "      <td>0.029189</td>\n",
       "      <td>0.084199</td>\n",
       "      <td>0.051313</td>\n",
       "      <td>0.02011</td>\n",
       "      <td>0.072655</td>\n",
       "      <td>...</td>\n",
       "      <td>0.083837</td>\n",
       "      <td>0.011737</td>\n",
       "      <td>0.033437</td>\n",
       "      <td>0.006872</td>\n",
       "      <td>0.086067</td>\n",
       "      <td>0.023064</td>\n",
       "      <td>0.079572</td>\n",
       "      <td>0</td>\n",
       "      <td>0</td>\n",
       "      <td>lakeproblem</td>\n",
       "    </tr>\n",
       "    <tr>\n",
       "      <th>1</th>\n",
       "      <td>0.270902</td>\n",
       "      <td>0.965437</td>\n",
       "      <td>0.010299</td>\n",
       "      <td>2.170984</td>\n",
       "      <td>0.001674</td>\n",
       "      <td>0.029189</td>\n",
       "      <td>0.084199</td>\n",
       "      <td>0.051313</td>\n",
       "      <td>0.02011</td>\n",
       "      <td>0.072655</td>\n",
       "      <td>...</td>\n",
       "      <td>0.083837</td>\n",
       "      <td>0.011737</td>\n",
       "      <td>0.033437</td>\n",
       "      <td>0.006872</td>\n",
       "      <td>0.086067</td>\n",
       "      <td>0.023064</td>\n",
       "      <td>0.079572</td>\n",
       "      <td>1</td>\n",
       "      <td>0</td>\n",
       "      <td>lakeproblem</td>\n",
       "    </tr>\n",
       "    <tr>\n",
       "      <th>2</th>\n",
       "      <td>0.247250</td>\n",
       "      <td>0.964961</td>\n",
       "      <td>0.040075</td>\n",
       "      <td>2.159455</td>\n",
       "      <td>0.004130</td>\n",
       "      <td>0.029189</td>\n",
       "      <td>0.084199</td>\n",
       "      <td>0.051313</td>\n",
       "      <td>0.02011</td>\n",
       "      <td>0.072655</td>\n",
       "      <td>...</td>\n",
       "      <td>0.083837</td>\n",
       "      <td>0.011737</td>\n",
       "      <td>0.033437</td>\n",
       "      <td>0.006872</td>\n",
       "      <td>0.086067</td>\n",
       "      <td>0.023064</td>\n",
       "      <td>0.079572</td>\n",
       "      <td>2</td>\n",
       "      <td>0</td>\n",
       "      <td>lakeproblem</td>\n",
       "    </tr>\n",
       "    <tr>\n",
       "      <th>3</th>\n",
       "      <td>0.308293</td>\n",
       "      <td>0.979950</td>\n",
       "      <td>0.012485</td>\n",
       "      <td>2.283549</td>\n",
       "      <td>0.002121</td>\n",
       "      <td>0.029189</td>\n",
       "      <td>0.084199</td>\n",
       "      <td>0.051313</td>\n",
       "      <td>0.02011</td>\n",
       "      <td>0.072655</td>\n",
       "      <td>...</td>\n",
       "      <td>0.083837</td>\n",
       "      <td>0.011737</td>\n",
       "      <td>0.033437</td>\n",
       "      <td>0.006872</td>\n",
       "      <td>0.086067</td>\n",
       "      <td>0.023064</td>\n",
       "      <td>0.079572</td>\n",
       "      <td>3</td>\n",
       "      <td>0</td>\n",
       "      <td>lakeproblem</td>\n",
       "    </tr>\n",
       "    <tr>\n",
       "      <th>4</th>\n",
       "      <td>0.346859</td>\n",
       "      <td>0.984501</td>\n",
       "      <td>0.027261</td>\n",
       "      <td>3.330304</td>\n",
       "      <td>0.003085</td>\n",
       "      <td>0.029189</td>\n",
       "      <td>0.084199</td>\n",
       "      <td>0.051313</td>\n",
       "      <td>0.02011</td>\n",
       "      <td>0.072655</td>\n",
       "      <td>...</td>\n",
       "      <td>0.083837</td>\n",
       "      <td>0.011737</td>\n",
       "      <td>0.033437</td>\n",
       "      <td>0.006872</td>\n",
       "      <td>0.086067</td>\n",
       "      <td>0.023064</td>\n",
       "      <td>0.079572</td>\n",
       "      <td>4</td>\n",
       "      <td>0</td>\n",
       "      <td>lakeproblem</td>\n",
       "    </tr>\n",
       "  </tbody>\n",
       "</table>\n",
       "<p>5 rows × 108 columns</p>\n",
       "</div>"
      ],
      "text/plain": [
       "          b     delta      mean         q     stdev         0         1  \\\n",
       "0  0.226224  0.970547  0.027319  3.872903  0.002965  0.029189  0.084199   \n",
       "1  0.270902  0.965437  0.010299  2.170984  0.001674  0.029189  0.084199   \n",
       "2  0.247250  0.964961  0.040075  2.159455  0.004130  0.029189  0.084199   \n",
       "3  0.308293  0.979950  0.012485  2.283549  0.002121  0.029189  0.084199   \n",
       "4  0.346859  0.984501  0.027261  3.330304  0.003085  0.029189  0.084199   \n",
       "\n",
       "         10       11        12  ...        93        94        95        96  \\\n",
       "0  0.051313  0.02011  0.072655  ...  0.083837  0.011737  0.033437  0.006872   \n",
       "1  0.051313  0.02011  0.072655  ...  0.083837  0.011737  0.033437  0.006872   \n",
       "2  0.051313  0.02011  0.072655  ...  0.083837  0.011737  0.033437  0.006872   \n",
       "3  0.051313  0.02011  0.072655  ...  0.083837  0.011737  0.033437  0.006872   \n",
       "4  0.051313  0.02011  0.072655  ...  0.083837  0.011737  0.033437  0.006872   \n",
       "\n",
       "         97        98        99  scenario  policy        model  \n",
       "0  0.086067  0.023064  0.079572         0       0  lakeproblem  \n",
       "1  0.086067  0.023064  0.079572         1       0  lakeproblem  \n",
       "2  0.086067  0.023064  0.079572         2       0  lakeproblem  \n",
       "3  0.086067  0.023064  0.079572         3       0  lakeproblem  \n",
       "4  0.086067  0.023064  0.079572         4       0  lakeproblem  \n",
       "\n",
       "[5 rows x 108 columns]"
      ]
     },
     "execution_count": 4,
     "metadata": {},
     "output_type": "execute_result"
    }
   ],
   "source": [
    "experiments.head()"
   ]
  },
  {
   "cell_type": "code",
   "execution_count": 5,
   "metadata": {},
   "outputs": [],
   "source": [
    "cleaned_experiments = experiments.drop(labels=[l.name for l in lake_model.levers],\n",
    "                                       axis=1)"
   ]
  },
  {
   "cell_type": "markdown",
   "metadata": {},
   "source": [
    "3. Apply scenario discovery, focussing on the 10 percent of worst outcomes for reliability"
   ]
  },
  {
   "cell_type": "code",
   "execution_count": 6,
   "metadata": {},
   "outputs": [
    {
     "name": "stderr",
     "output_type": "stream",
     "text": [
      "/anaconda3/lib/python3.7/importlib/_bootstrap.py:219: ImportWarning: can't resolve package from __spec__ or __package__, falling back on __name__ and __path__\n",
      "  return f(*args, **kwds)\n",
      "[MainProcess/INFO] model dropped from analysis because only a single category\n",
      "[MainProcess/INFO] 10000 points remaining, containing 869 cases of interest\n",
      "[MainProcess/INFO] mean: 0.86328125, mass: 0.0512, coverage: 0.5086306098964327, density: 0.86328125 restricted_dimensions: 4\n"
     ]
    }
   ],
   "source": [
    "from ema_workbench.analysis import prim\n",
    "\n",
    "data = outcomes['reliability']\n",
    "\n",
    "y = data < np.percentile(data, 10)\n",
    "\n",
    "prim_alg = prim.Prim(cleaned_experiments, y, threshold=0.8)\n",
    "box1 = prim_alg.find_box()"
   ]
  },
  {
   "cell_type": "code",
   "execution_count": 7,
   "metadata": {},
   "outputs": [
    {
     "data": {
      "image/png": "[encoded data removed]",
      "text/plain": [
       "<Figure size 432x288 with 2 Axes>"
      ]
     },
     "metadata": {
      "needs_background": "light"
     },
     "output_type": "display_data"
    }
   ],
   "source": [
    "box1.show_tradeoff()\n",
    "plt.show()"
   ]
  },
  {
   "cell_type": "code",
   "execution_count": 8,
   "metadata": {},
   "outputs": [
    {
     "data": {
      "image/png": "[encoded data removed]",
      "text/plain": [
       "<Figure size 432x288 with 1 Axes>"
      ]
     },
     "metadata": {
      "needs_background": "light"
     },
     "output_type": "display_data"
    }
   ],
   "source": [
    "box1.inspect(style='graph')\n",
    "plt.show()"
   ]
  },
  {
   "cell_type": "code",
   "execution_count": 12,
   "metadata": {},
   "outputs": [
    {
     "name": "stderr",
     "output_type": "stream",
     "text": [
      "[MainProcess/INFO] 9488 points remaining, containing 427 cases of interest\n",
      "[MainProcess/INFO] box does not meet threshold criteria, value is 0.4990138067061144, returning dump box\n"
     ]
    }
   ],
   "source": [
    "box2 = prim_alg.find_box()"
   ]
  },
  {
   "cell_type": "code",
   "execution_count": 13,
   "metadata": {},
   "outputs": [
    {
     "name": "stdout",
     "output_type": "stream",
     "text": [
      "policy [1, 2, 3, 4, 5, 6, 7, 8, 0, 9]\n"
     ]
    },
    {
     "data": {
      "text/plain": [
       "<seaborn.axisgrid.PairGrid at 0x7fdc21565da0>"
      ]
     },
     "execution_count": 13,
     "metadata": {},
     "output_type": "execute_result"
    },
    {
     "data": {
      "image/png": "[encoded data removed]",
      "text/plain": [
       "<Figure size 780.625x720 with 20 Axes>"
      ]
     },
     "metadata": {
      "needs_background": "light"
     },
     "output_type": "display_data"
    }
   ],
   "source": [
    "box1.show_pairs_scatter()"
   ]
  },
  {
   "cell_type": "code",
   "execution_count": 16,
   "metadata": {},
   "outputs": [
    {
     "data": {
      "application/vnd.vegalite.v2+json": {
       "$schema": "https://vega.github.io/schema/vega-lite/v2.6.0.json",
       "config": {
        "view": {
         "height": 300,
         "width": 400
        }
       },
       "datasets": {
        "data-0ca5224484f84445bef132a37251c5bf": [
         {
          "coverage": 1,
          "density": 0.0869,
          "id": 0,
          "mass": 1,
          "mean": 0.0869,
          "res_dim": 0
         },
         {
          "coverage": 1,
          "density": 0.09147368421052632,
          "id": 1,
          "mass": 0.95,
          "mean": 0.09147368421052632,
          "res_dim": 1
         },
         {
          "coverage": 1,
          "density": 0.09634146341463415,
          "id": 2,
          "mass": 0.902,
          "mean": 0.09634146341463415,
          "res_dim": 1
         },
         {
          "coverage": 1,
          "density": 0.10151869158878504,
          "id": 3,
          "mass": 0.856,
          "mean": 0.10151869158878504,
          "res_dim": 1
         },
         {
          "coverage": 1,
          "density": 0.1068880688806888,
          "id": 4,
          "mass": 0.813,
          "mean": 0.1068880688806888,
          "res_dim": 1
         },
         {
          "coverage": 1,
          "density": 0.11256476683937824,
          "id": 5,
          "mass": 0.772,
          "mean": 0.11256476683937824,
          "res_dim": 1
         },
         {
          "coverage": 1,
          "density": 0.11855388813096862,
          "id": 6,
          "mass": 0.733,
          "mean": 0.11855388813096862,
          "res_dim": 1
         },
         {
          "coverage": 1,
          "density": 0.12485632183908046,
          "id": 7,
          "mass": 0.696,
          "mean": 0.12485632183908046,
          "res_dim": 1
         },
         {
          "coverage": 1,
          "density": 0.1314674735249622,
          "id": 8,
          "mass": 0.661,
          "mean": 0.1314674735249622,
          "res_dim": 1
         },
         {
          "coverage": 1,
          "density": 0.13859649122807016,
          "id": 9,
          "mass": 0.627,
          "mean": 0.13859649122807016,
          "res_dim": 1
         },
         {
          "coverage": 1,
          "density": 0.1460504201680672,
          "id": 10,
          "mass": 0.595,
          "mean": 0.1460504201680672,
          "res_dim": 2
         },
         {
          "coverage": 1,
          "density": 0.15380530973451328,
          "id": 11,
          "mass": 0.565,
          "mean": 0.15380530973451328,
          "res_dim": 2
         },
         {
          "coverage": 1,
          "density": 0.16212686567164178,
          "id": 12,
          "mass": 0.536,
          "mean": 0.16212686567164178,
          "res_dim": 2
         },
         {
          "coverage": 1,
          "density": 0.17072691552062869,
          "id": 13,
          "mass": 0.509,
          "mean": 0.17072691552062869,
          "res_dim": 2
         },
         {
          "coverage": 1,
          "density": 0.17991718426501035,
          "id": 14,
          "mass": 0.483,
          "mean": 0.17991718426501035,
          "res_dim": 2
         },
         {
          "coverage": 1,
          "density": 0.18973799126637556,
          "id": 15,
          "mass": 0.458,
          "mean": 0.18973799126637556,
          "res_dim": 2
         },
         {
          "coverage": 0.998849252013809,
          "density": 0.19954022988505746,
          "id": 16,
          "mass": 0.435,
          "mean": 0.19954022988505746,
          "res_dim": 2
         },
         {
          "coverage": 0.997698504027618,
          "density": 0.2099273607748184,
          "id": 17,
          "mass": 0.413,
          "mean": 0.2099273607748184,
          "res_dim": 2
         },
         {
          "coverage": 0.996547756041427,
          "density": 0.2209183673469388,
          "id": 18,
          "mass": 0.392,
          "mean": 0.2209183673469388,
          "res_dim": 2
         },
         {
          "coverage": 0.996547756041427,
          "density": 0.23279569892473118,
          "id": 19,
          "mass": 0.372,
          "mean": 0.23279569892473118,
          "res_dim": 2
         },
         {
          "coverage": 0.996547756041427,
          "density": 0.2453257790368272,
          "id": 20,
          "mass": 0.353,
          "mean": 0.2453257790368272,
          "res_dim": 2
         },
         {
          "coverage": 0.996547756041427,
          "density": 0.25850746268656716,
          "id": 21,
          "mass": 0.335,
          "mean": 0.25850746268656716,
          "res_dim": 2
         },
         {
          "coverage": 0.996547756041427,
          "density": 0.2723270440251572,
          "id": 22,
          "mass": 0.318,
          "mean": 0.2723270440251572,
          "res_dim": 2
         },
         {
          "coverage": 0.9953970080552359,
          "density": 0.28642384105960267,
          "id": 23,
          "mass": 0.302,
          "mean": 0.28642384105960267,
          "res_dim": 2
         },
         {
          "coverage": 0.9953970080552359,
          "density": 0.30244755244755245,
          "id": 24,
          "mass": 0.286,
          "mean": 0.30244755244755245,
          "res_dim": 2
         },
         {
          "coverage": 0.9930955120828538,
          "density": 0.31845018450184504,
          "id": 25,
          "mass": 0.271,
          "mean": 0.31845018450184504,
          "res_dim": 2
         },
         {
          "coverage": 0.9930955120828538,
          "density": 0.3357976653696498,
          "id": 26,
          "mass": 0.257,
          "mean": 0.3357976653696498,
          "res_dim": 2
         },
         {
          "coverage": 0.9907940161104718,
          "density": 0.3528688524590164,
          "id": 27,
          "mass": 0.244,
          "mean": 0.3528688524590164,
          "res_dim": 2
         },
         {
          "coverage": 0.9907940161104718,
          "density": 0.37272727272727274,
          "id": 28,
          "mass": 0.231,
          "mean": 0.37272727272727274,
          "res_dim": 2
         },
         {
          "coverage": 0.9827387802071347,
          "density": 0.38995433789954337,
          "id": 29,
          "mass": 0.219,
          "mean": 0.38995433789954337,
          "res_dim": 2
         },
         {
          "coverage": 0.9735327963176065,
          "density": 0.40673076923076923,
          "id": 30,
          "mass": 0.208,
          "mean": 0.40673076923076923,
          "res_dim": 2
         },
         {
          "coverage": 0.9493670886075949,
          "density": 0.4407051282051282,
          "id": 31,
          "mass": 0.1872,
          "mean": 0.4407051282051282,
          "res_dim": 3
         },
         {
          "coverage": 0.9355581127733027,
          "density": 0.45854483925549916,
          "id": 32,
          "mass": 0.1773,
          "mean": 0.45854483925549916,
          "res_dim": 3
         },
         {
          "coverage": 0.9240506329113924,
          "density": 0.477124183006536,
          "id": 33,
          "mass": 0.1683,
          "mean": 0.477124183006536,
          "res_dim": 3
         },
         {
          "coverage": 0.9079401611047181,
          "density": 0.4952919020715631,
          "id": 34,
          "mass": 0.1593,
          "mean": 0.4952919020715631,
          "res_dim": 3
         },
         {
          "coverage": 0.8964326812428078,
          "density": 0.5152116402116402,
          "id": 35,
          "mass": 0.1512,
          "mean": 0.5152116402116402,
          "res_dim": 3
         },
         {
          "coverage": 0.8803222094361335,
          "density": 0.5345911949685535,
          "id": 36,
          "mass": 0.1431,
          "mean": 0.5345911949685535,
          "res_dim": 3
         },
         {
          "coverage": 0.8780207134637514,
          "density": 0.5614422369389257,
          "id": 37,
          "mass": 0.1359,
          "mean": 0.5614422369389257,
          "res_dim": 3
         },
         {
          "coverage": 0.8653624856156502,
          "density": 0.5843045843045843,
          "id": 38,
          "mass": 0.1287,
          "mean": 0.5843045843045843,
          "res_dim": 3
         },
         {
          "coverage": 0.8469505178365938,
          "density": 0.605761316872428,
          "id": 39,
          "mass": 0.1215,
          "mean": 0.605761316872428,
          "res_dim": 3
         },
         {
          "coverage": 0.8308400460299195,
          "density": 0.6267361111111112,
          "id": 40,
          "mass": 0.1152,
          "mean": 0.6267361111111112,
          "res_dim": 3
         },
         {
          "coverage": 0.812428078250863,
          "density": 0.6483011937557392,
          "id": 41,
          "mass": 0.1089,
          "mean": 0.6483011937557392,
          "res_dim": 4
         },
         {
          "coverage": 0.7974683544303798,
          "density": 0.6754385964912281,
          "id": 42,
          "mass": 0.1026,
          "mean": 0.6754385964912281,
          "res_dim": 4
         },
         {
          "coverage": 0.7767548906789413,
          "density": 0.6944444444444444,
          "id": 43,
          "mass": 0.0972,
          "mean": 0.6944444444444444,
          "res_dim": 4
         },
         {
          "coverage": 0.7537399309551208,
          "density": 0.7135076252723311,
          "id": 44,
          "mass": 0.0918,
          "mean": 0.7135076252723311,
          "res_dim": 4
         },
         {
          "coverage": 0.7295742232451093,
          "density": 0.7337962962962963,
          "id": 45,
          "mass": 0.0864,
          "mean": 0.7337962962962963,
          "res_dim": 4
         },
         {
          "coverage": 0.7111622554660529,
          "density": 0.7545787545787546,
          "id": 46,
          "mass": 0.0819,
          "mean": 0.7545787545787546,
          "res_dim": 4
         },
         {
          "coverage": 0.6858457997698504,
          "density": 0.7700258397932817,
          "id": 47,
          "mass": 0.0774,
          "mean": 0.7700258397932817,
          "res_dim": 4
         },
         {
          "coverage": 0.6593785960874569,
          "density": 0.7860082304526749,
          "id": 48,
          "mass": 0.0729,
          "mean": 0.7860082304526749,
          "res_dim": 4
         },
         {
          "coverage": 0.6352128883774454,
          "density": 0.8070175438596491,
          "id": 49,
          "mass": 0.0684,
          "mean": 0.8070175438596491,
          "res_dim": 4
         },
         {
          "coverage": 0.6133486766398158,
          "density": 0.8225308641975309,
          "id": 50,
          "mass": 0.0648,
          "mean": 0.8225308641975309,
          "res_dim": 4
         },
         {
          "coverage": 0.5615650172612198,
          "density": 0.8472222222222222,
          "id": 51,
          "mass": 0.0576,
          "mean": 0.8472222222222222,
          "res_dim": 4
         },
         {
          "coverage": 0.5350978135788262,
          "density": 0.8547794117647058,
          "id": 52,
          "mass": 0.0544,
          "mean": 0.8547794117647058,
          "res_dim": 4
         },
         {
          "coverage": 0.5086306098964327,
          "density": 0.86328125,
          "id": 53,
          "mass": 0.0512,
          "mean": 0.86328125,
          "res_dim": 4
         }
        ],
        "data-7d69e1f67461d0db6b9ddc11768811c2": [
         {
          "id": 31,
          "item": 0,
          "n_items": 10,
          "name": "policy,  0.0015",
          "x": 0
         },
         {
          "id": 31,
          "item": 1,
          "n_items": 10,
          "name": "policy,  0.0015",
          "x": 0.1111111111111111
         },
         {
          "id": 31,
          "item": 2,
          "n_items": 10,
          "name": "policy,  0.0015",
          "x": 0.2222222222222222
         },
         {
          "id": 31,
          "item": 3,
          "n_items": 10,
          "name": "policy,  0.0015",
          "x": 0.3333333333333333
         },
         {
          "id": 31,
          "item": 4,
          "n_items": 10,
          "name": "policy,  0.0015",
          "x": 0.4444444444444444
         },
         {
          "id": 31,
          "item": 5,
          "n_items": 10,
          "name": "policy,  0.0015",
          "x": 0.5555555555555556
         },
         {
          "id": 31,
          "item": 6,
          "n_items": 10,
          "name": "policy,  0.0015",
          "x": 0.6666666666666666
         },
         {
          "id": 31,
          "item": 7,
          "n_items": 10,
          "name": "policy,  0.0015",
          "x": 0.7777777777777778
         },
         {
          "id": 31,
          "item": 8,
          "n_items": 10,
          "name": "policy,  0.0015",
          "x": 0.8888888888888888
         },
         {
          "id": 32,
          "item": 0,
          "n_items": 10,
          "name": "policy,  0.0015",
          "x": 0
         },
         {
          "id": 32,
          "item": 1,
          "n_items": 10,
          "name": "policy,  0.0015",
          "x": 0.1111111111111111
         },
         {
          "id": 32,
          "item": 2,
          "n_items": 10,
          "name": "policy,  0.0015",
          "x": 0.2222222222222222
         },
         {
          "id": 32,
          "item": 3,
          "n_items": 10,
          "name": "policy,  0.0015",
          "x": 0.3333333333333333
         },
         {
          "id": 32,
          "item": 4,
          "n_items": 10,
          "name": "policy,  0.0015",
          "x": 0.4444444444444444
         },
         {
          "id": 32,
          "item": 5,
          "n_items": 10,
          "name": "policy,  0.0015",
          "x": 0.5555555555555556
         },
         {
          "id": 32,
          "item": 6,
          "n_items": 10,
          "name": "policy,  0.0015",
          "x": 0.6666666666666666
         },
         {
          "id": 32,
          "item": 7,
          "n_items": 10,
          "name": "policy,  0.0015",
          "x": 0.7777777777777778
         },
         {
          "id": 32,
          "item": 8,
          "n_items": 10,
          "name": "policy,  0.0015",
          "x": 0.8888888888888888
         },
         {
          "id": 33,
          "item": 0,
          "n_items": 10,
          "name": "policy,  0.0014",
          "x": 0
         },
         {
          "id": 33,
          "item": 1,
          "n_items": 10,
          "name": "policy,  0.0014",
          "x": 0.1111111111111111
         },
         {
          "id": 33,
          "item": 2,
          "n_items": 10,
          "name": "policy,  0.0014",
          "x": 0.2222222222222222
         },
         {
          "id": 33,
          "item": 3,
          "n_items": 10,
          "name": "policy,  0.0014",
          "x": 0.3333333333333333
         },
         {
          "id": 33,
          "item": 4,
          "n_items": 10,
          "name": "policy,  0.0014",
          "x": 0.4444444444444444
         },
         {
          "id": 33,
          "item": 5,
          "n_items": 10,
          "name": "policy,  0.0014",
          "x": 0.5555555555555556
         },
         {
          "id": 33,
          "item": 6,
          "n_items": 10,
          "name": "policy,  0.0014",
          "x": 0.6666666666666666
         },
         {
          "id": 33,
          "item": 7,
          "n_items": 10,
          "name": "policy,  0.0014",
          "x": 0.7777777777777778
         },
         {
          "id": 33,
          "item": 8,
          "n_items": 10,
          "name": "policy,  0.0014",
          "x": 0.8888888888888888
         },
         {
          "id": 34,
          "item": 0,
          "n_items": 10,
          "name": "policy,  0.0014",
          "x": 0
         },
         {
          "id": 34,
          "item": 1,
          "n_items": 10,
          "name": "policy,  0.0014",
          "x": 0.1111111111111111
         },
         {
          "id": 34,
          "item": 2,
          "n_items": 10,
          "name": "policy,  0.0014",
          "x": 0.2222222222222222
         },
         {
          "id": 34,
          "item": 3,
          "n_items": 10,
          "name": "policy,  0.0014",
          "x": 0.3333333333333333
         },
         {
          "id": 34,
          "item": 4,
          "n_items": 10,
          "name": "policy,  0.0014",
          "x": 0.4444444444444444
         },
         {
          "id": 34,
          "item": 5,
          "n_items": 10,
          "name": "policy,  0.0014",
          "x": 0.5555555555555556
         },
         {
          "id": 34,
          "item": 6,
          "n_items": 10,
          "name": "policy,  0.0014",
          "x": 0.6666666666666666
         },
         {
          "id": 34,
          "item": 7,
          "n_items": 10,
          "name": "policy,  0.0014",
          "x": 0.7777777777777778
         },
         {
          "id": 34,
          "item": 8,
          "n_items": 10,
          "name": "policy,  0.0014",
          "x": 0.8888888888888888
         },
         {
          "id": 35,
          "item": 0,
          "n_items": 10,
          "name": "policy,  0.0013",
          "x": 0
         },
         {
          "id": 35,
          "item": 1,
          "n_items": 10,
          "name": "policy,  0.0013",
          "x": 0.1111111111111111
         },
         {
          "id": 35,
          "item": 2,
          "n_items": 10,
          "name": "policy,  0.0013",
          "x": 0.2222222222222222
         },
         {
          "id": 35,
          "item": 3,
          "n_items": 10,
          "name": "policy,  0.0013",
          "x": 0.3333333333333333
         },
         {
          "id": 35,
          "item": 4,
          "n_items": 10,
          "name": "policy,  0.0013",
          "x": 0.4444444444444444
         },
         {
          "id": 35,
          "item": 5,
          "n_items": 10,
          "name": "policy,  0.0013",
          "x": 0.5555555555555556
         },
         {
          "id": 35,
          "item": 6,
          "n_items": 10,
          "name": "policy,  0.0013",
          "x": 0.6666666666666666
         },
         {
          "id": 35,
          "item": 7,
          "n_items": 10,
          "name": "policy,  0.0013",
          "x": 0.7777777777777778
         },
         {
          "id": 35,
          "item": 8,
          "n_items": 10,
          "name": "policy,  0.0013",
          "x": 0.8888888888888888
         },
         {
          "id": 36,
          "item": 0,
          "n_items": 10,
          "name": "policy,  0.0013",
          "x": 0
         },
         {
          "id": 36,
          "item": 1,
          "n_items": 10,
          "name": "policy,  0.0013",
          "x": 0.1111111111111111
         },
         {
          "id": 36,
          "item": 2,
          "n_items": 10,
          "name": "policy,  0.0013",
          "x": 0.2222222222222222
         },
         {
          "id": 36,
          "item": 3,
          "n_items": 10,
          "name": "policy,  0.0013",
          "x": 0.3333333333333333
         },
         {
          "id": 36,
          "item": 4,
          "n_items": 10,
          "name": "policy,  0.0013",
          "x": 0.4444444444444444
         },
         {
          "id": 36,
          "item": 5,
          "n_items": 10,
          "name": "policy,  0.0013",
          "x": 0.5555555555555556
         },
         {
          "id": 36,
          "item": 6,
          "n_items": 10,
          "name": "policy,  0.0013",
          "x": 0.6666666666666666
         },
         {
          "id": 36,
          "item": 7,
          "n_items": 10,
          "name": "policy,  0.0013",
          "x": 0.7777777777777778
         },
         {
          "id": 36,
          "item": 8,
          "n_items": 10,
          "name": "policy,  0.0013",
          "x": 0.8888888888888888
         },
         {
          "id": 37,
          "item": 0,
          "n_items": 10,
          "name": "policy,  0.00099",
          "x": 0
         },
         {
          "id": 37,
          "item": 1,
          "n_items": 10,
          "name": "policy,  0.00099",
          "x": 0.1111111111111111
         },
         {
          "id": 37,
          "item": 2,
          "n_items": 10,
          "name": "policy,  0.00099",
          "x": 0.2222222222222222
         },
         {
          "id": 37,
          "item": 3,
          "n_items": 10,
          "name": "policy,  0.00099",
          "x": 0.3333333333333333
         },
         {
          "id": 37,
          "item": 4,
          "n_items": 10,
          "name": "policy,  0.00099",
          "x": 0.4444444444444444
         },
         {
          "id": 37,
          "item": 5,
          "n_items": 10,
          "name": "policy,  0.00099",
          "x": 0.5555555555555556
         },
         {
          "id": 37,
          "item": 6,
          "n_items": 10,
          "name": "policy,  0.00099",
          "x": 0.6666666666666666
         },
         {
          "id": 37,
          "item": 7,
          "n_items": 10,
          "name": "policy,  0.00099",
          "x": 0.7777777777777778
         },
         {
          "id": 37,
          "item": 8,
          "n_items": 10,
          "name": "policy,  0.00099",
          "x": 0.8888888888888888
         },
         {
          "id": 38,
          "item": 0,
          "n_items": 10,
          "name": "policy,  0.00088",
          "x": 0
         },
         {
          "id": 38,
          "item": 1,
          "n_items": 10,
          "name": "policy,  0.00088",
          "x": 0.1111111111111111
         },
         {
          "id": 38,
          "item": 2,
          "n_items": 10,
          "name": "policy,  0.00088",
          "x": 0.2222222222222222
         },
         {
          "id": 38,
          "item": 3,
          "n_items": 10,
          "name": "policy,  0.00088",
          "x": 0.3333333333333333
         },
         {
          "id": 38,
          "item": 4,
          "n_items": 10,
          "name": "policy,  0.00088",
          "x": 0.4444444444444444
         },
         {
          "id": 38,
          "item": 5,
          "n_items": 10,
          "name": "policy,  0.00088",
          "x": 0.5555555555555556
         },
         {
          "id": 38,
          "item": 6,
          "n_items": 10,
          "name": "policy,  0.00088",
          "x": 0.6666666666666666
         },
         {
          "id": 38,
          "item": 7,
          "n_items": 10,
          "name": "policy,  0.00088",
          "x": 0.7777777777777778
         },
         {
          "id": 38,
          "item": 8,
          "n_items": 10,
          "name": "policy,  0.00088",
          "x": 0.8888888888888888
         },
         {
          "id": 39,
          "item": 0,
          "n_items": 10,
          "name": "policy,  0.00083",
          "x": 0
         },
         {
          "id": 39,
          "item": 1,
          "n_items": 10,
          "name": "policy,  0.00083",
          "x": 0.1111111111111111
         },
         {
          "id": 39,
          "item": 2,
          "n_items": 10,
          "name": "policy,  0.00083",
          "x": 0.2222222222222222
         },
         {
          "id": 39,
          "item": 3,
          "n_items": 10,
          "name": "policy,  0.00083",
          "x": 0.3333333333333333
         },
         {
          "id": 39,
          "item": 4,
          "n_items": 10,
          "name": "policy,  0.00083",
          "x": 0.4444444444444444
         },
         {
          "id": 39,
          "item": 5,
          "n_items": 10,
          "name": "policy,  0.00083",
          "x": 0.5555555555555556
         },
         {
          "id": 39,
          "item": 6,
          "n_items": 10,
          "name": "policy,  0.00083",
          "x": 0.6666666666666666
         },
         {
          "id": 39,
          "item": 7,
          "n_items": 10,
          "name": "policy,  0.00083",
          "x": 0.7777777777777778
         },
         {
          "id": 39,
          "item": 8,
          "n_items": 10,
          "name": "policy,  0.00083",
          "x": 0.8888888888888888
         },
         {
          "id": 40,
          "item": 0,
          "n_items": 10,
          "name": "policy,  0.00076",
          "x": 0
         },
         {
          "id": 40,
          "item": 1,
          "n_items": 10,
          "name": "policy,  0.00076",
          "x": 0.1111111111111111
         },
         {
          "id": 40,
          "item": 2,
          "n_items": 10,
          "name": "policy,  0.00076",
          "x": 0.2222222222222222
         },
         {
          "id": 40,
          "item": 3,
          "n_items": 10,
          "name": "policy,  0.00076",
          "x": 0.3333333333333333
         },
         {
          "id": 40,
          "item": 4,
          "n_items": 10,
          "name": "policy,  0.00076",
          "x": 0.4444444444444444
         },
         {
          "id": 40,
          "item": 5,
          "n_items": 10,
          "name": "policy,  0.00076",
          "x": 0.5555555555555556
         },
         {
          "id": 40,
          "item": 6,
          "n_items": 10,
          "name": "policy,  0.00076",
          "x": 0.6666666666666666
         },
         {
          "id": 40,
          "item": 7,
          "n_items": 10,
          "name": "policy,  0.00076",
          "x": 0.7777777777777778
         },
         {
          "id": 40,
          "item": 8,
          "n_items": 10,
          "name": "policy,  0.00076",
          "x": 0.8888888888888888
         },
         {
          "id": 41,
          "item": 0,
          "n_items": 10,
          "name": "policy,  0.00071",
          "x": 0
         },
         {
          "id": 41,
          "item": 1,
          "n_items": 10,
          "name": "policy,  0.00071",
          "x": 0.1111111111111111
         },
         {
          "id": 41,
          "item": 2,
          "n_items": 10,
          "name": "policy,  0.00071",
          "x": 0.2222222222222222
         },
         {
          "id": 41,
          "item": 3,
          "n_items": 10,
          "name": "policy,  0.00071",
          "x": 0.3333333333333333
         },
         {
          "id": 41,
          "item": 4,
          "n_items": 10,
          "name": "policy,  0.00071",
          "x": 0.4444444444444444
         },
         {
          "id": 41,
          "item": 5,
          "n_items": 10,
          "name": "policy,  0.00071",
          "x": 0.5555555555555556
         },
         {
          "id": 41,
          "item": 6,
          "n_items": 10,
          "name": "policy,  0.00071",
          "x": 0.6666666666666666
         },
         {
          "id": 41,
          "item": 7,
          "n_items": 10,
          "name": "policy,  0.00071",
          "x": 0.7777777777777778
         },
         {
          "id": 41,
          "item": 8,
          "n_items": 10,
          "name": "policy,  0.00071",
          "x": 0.8888888888888888
         },
         {
          "id": 42,
          "item": 0,
          "n_items": 10,
          "name": "policy,  0.00058",
          "x": 0
         },
         {
          "id": 42,
          "item": 1,
          "n_items": 10,
          "name": "policy,  0.00058",
          "x": 0.1111111111111111
         },
         {
          "id": 42,
          "item": 2,
          "n_items": 10,
          "name": "policy,  0.00058",
          "x": 0.2222222222222222
         },
         {
          "id": 42,
          "item": 3,
          "n_items": 10,
          "name": "policy,  0.00058",
          "x": 0.3333333333333333
         },
         {
          "id": 42,
          "item": 4,
          "n_items": 10,
          "name": "policy,  0.00058",
          "x": 0.4444444444444444
         },
         {
          "id": 42,
          "item": 5,
          "n_items": 10,
          "name": "policy,  0.00058",
          "x": 0.5555555555555556
         },
         {
          "id": 42,
          "item": 6,
          "n_items": 10,
          "name": "policy,  0.00058",
          "x": 0.6666666666666666
         },
         {
          "id": 42,
          "item": 7,
          "n_items": 10,
          "name": "policy,  0.00058",
          "x": 0.7777777777777778
         },
         {
          "id": 42,
          "item": 8,
          "n_items": 10,
          "name": "policy,  0.00058",
          "x": 0.8888888888888888
         },
         {
          "id": 43,
          "item": 0,
          "n_items": 10,
          "name": "policy,  0.00056",
          "x": 0
         },
         {
          "id": 43,
          "item": 1,
          "n_items": 10,
          "name": "policy,  0.00056",
          "x": 0.1111111111111111
         },
         {
          "id": 43,
          "item": 2,
          "n_items": 10,
          "name": "policy,  0.00056",
          "x": 0.2222222222222222
         },
         {
          "id": 43,
          "item": 3,
          "n_items": 10,
          "name": "policy,  0.00056",
          "x": 0.3333333333333333
         },
         {
          "id": 43,
          "item": 4,
          "n_items": 10,
          "name": "policy,  0.00056",
          "x": 0.4444444444444444
         },
         {
          "id": 43,
          "item": 5,
          "n_items": 10,
          "name": "policy,  0.00056",
          "x": 0.5555555555555556
         },
         {
          "id": 43,
          "item": 6,
          "n_items": 10,
          "name": "policy,  0.00056",
          "x": 0.6666666666666666
         },
         {
          "id": 43,
          "item": 7,
          "n_items": 10,
          "name": "policy,  0.00056",
          "x": 0.7777777777777778
         },
         {
          "id": 43,
          "item": 8,
          "n_items": 10,
          "name": "policy,  0.00056",
          "x": 0.8888888888888888
         },
         {
          "id": 44,
          "item": 0,
          "n_items": 10,
          "name": "policy,  0.00056",
          "x": 0
         },
         {
          "id": 44,
          "item": 1,
          "n_items": 10,
          "name": "policy,  0.00056",
          "x": 0.1111111111111111
         },
         {
          "id": 44,
          "item": 2,
          "n_items": 10,
          "name": "policy,  0.00056",
          "x": 0.2222222222222222
         },
         {
          "id": 44,
          "item": 3,
          "n_items": 10,
          "name": "policy,  0.00056",
          "x": 0.3333333333333333
         },
         {
          "id": 44,
          "item": 4,
          "n_items": 10,
          "name": "policy,  0.00056",
          "x": 0.4444444444444444
         },
         {
          "id": 44,
          "item": 5,
          "n_items": 10,
          "name": "policy,  0.00056",
          "x": 0.5555555555555556
         },
         {
          "id": 44,
          "item": 6,
          "n_items": 10,
          "name": "policy,  0.00056",
          "x": 0.6666666666666666
         },
         {
          "id": 44,
          "item": 7,
          "n_items": 10,
          "name": "policy,  0.00056",
          "x": 0.7777777777777778
         },
         {
          "id": 44,
          "item": 8,
          "n_items": 10,
          "name": "policy,  0.00056",
          "x": 0.8888888888888888
         },
         {
          "id": 45,
          "item": 0,
          "n_items": 10,
          "name": "policy,  0.00055",
          "x": 0
         },
         {
          "id": 45,
          "item": 1,
          "n_items": 10,
          "name": "policy,  0.00055",
          "x": 0.1111111111111111
         },
         {
          "id": 45,
          "item": 2,
          "n_items": 10,
          "name": "policy,  0.00055",
          "x": 0.2222222222222222
         },
         {
          "id": 45,
          "item": 3,
          "n_items": 10,
          "name": "policy,  0.00055",
          "x": 0.3333333333333333
         },
         {
          "id": 45,
          "item": 4,
          "n_items": 10,
          "name": "policy,  0.00055",
          "x": 0.4444444444444444
         },
         {
          "id": 45,
          "item": 5,
          "n_items": 10,
          "name": "policy,  0.00055",
          "x": 0.5555555555555556
         },
         {
          "id": 45,
          "item": 6,
          "n_items": 10,
          "name": "policy,  0.00055",
          "x": 0.6666666666666666
         },
         {
          "id": 45,
          "item": 7,
          "n_items": 10,
          "name": "policy,  0.00055",
          "x": 0.7777777777777778
         },
         {
          "id": 45,
          "item": 8,
          "n_items": 10,
          "name": "policy,  0.00055",
          "x": 0.8888888888888888
         },
         {
          "id": 46,
          "item": 0,
          "n_items": 10,
          "name": "policy,  0.00039",
          "x": 0
         },
         {
          "id": 46,
          "item": 1,
          "n_items": 10,
          "name": "policy,  0.00039",
          "x": 0.1111111111111111
         },
         {
          "id": 46,
          "item": 2,
          "n_items": 10,
          "name": "policy,  0.00039",
          "x": 0.2222222222222222
         },
         {
          "id": 46,
          "item": 3,
          "n_items": 10,
          "name": "policy,  0.00039",
          "x": 0.3333333333333333
         },
         {
          "id": 46,
          "item": 4,
          "n_items": 10,
          "name": "policy,  0.00039",
          "x": 0.4444444444444444
         },
         {
          "id": 46,
          "item": 5,
          "n_items": 10,
          "name": "policy,  0.00039",
          "x": 0.5555555555555556
         },
         {
          "id": 46,
          "item": 6,
          "n_items": 10,
          "name": "policy,  0.00039",
          "x": 0.6666666666666666
         },
         {
          "id": 46,
          "item": 7,
          "n_items": 10,
          "name": "policy,  0.00039",
          "x": 0.7777777777777778
         },
         {
          "id": 46,
          "item": 8,
          "n_items": 10,
          "name": "policy,  0.00039",
          "x": 0.8888888888888888
         },
         {
          "id": 47,
          "item": 0,
          "n_items": 10,
          "name": "policy,  0.00042",
          "x": 0
         },
         {
          "id": 47,
          "item": 1,
          "n_items": 10,
          "name": "policy,  0.00042",
          "x": 0.1111111111111111
         },
         {
          "id": 47,
          "item": 2,
          "n_items": 10,
          "name": "policy,  0.00042",
          "x": 0.2222222222222222
         },
         {
          "id": 47,
          "item": 3,
          "n_items": 10,
          "name": "policy,  0.00042",
          "x": 0.3333333333333333
         },
         {
          "id": 47,
          "item": 4,
          "n_items": 10,
          "name": "policy,  0.00042",
          "x": 0.4444444444444444
         },
         {
          "id": 47,
          "item": 5,
          "n_items": 10,
          "name": "policy,  0.00042",
          "x": 0.5555555555555556
         },
         {
          "id": 47,
          "item": 6,
          "n_items": 10,
          "name": "policy,  0.00042",
          "x": 0.6666666666666666
         },
         {
          "id": 47,
          "item": 7,
          "n_items": 10,
          "name": "policy,  0.00042",
          "x": 0.7777777777777778
         },
         {
          "id": 47,
          "item": 8,
          "n_items": 10,
          "name": "policy,  0.00042",
          "x": 0.8888888888888888
         },
         {
          "id": 48,
          "item": 0,
          "n_items": 10,
          "name": "policy,  0.00035",
          "x": 0
         },
         {
          "id": 48,
          "item": 1,
          "n_items": 10,
          "name": "policy,  0.00035",
          "x": 0.1111111111111111
         },
         {
          "id": 48,
          "item": 2,
          "n_items": 10,
          "name": "policy,  0.00035",
          "x": 0.2222222222222222
         },
         {
          "id": 48,
          "item": 3,
          "n_items": 10,
          "name": "policy,  0.00035",
          "x": 0.3333333333333333
         },
         {
          "id": 48,
          "item": 4,
          "n_items": 10,
          "name": "policy,  0.00035",
          "x": 0.4444444444444444
         },
         {
          "id": 48,
          "item": 5,
          "n_items": 10,
          "name": "policy,  0.00035",
          "x": 0.5555555555555556
         },
         {
          "id": 48,
          "item": 6,
          "n_items": 10,
          "name": "policy,  0.00035",
          "x": 0.6666666666666666
         },
         {
          "id": 48,
          "item": 7,
          "n_items": 10,
          "name": "policy,  0.00035",
          "x": 0.7777777777777778
         },
         {
          "id": 48,
          "item": 8,
          "n_items": 10,
          "name": "policy,  0.00035",
          "x": 0.8888888888888888
         },
         {
          "id": 49,
          "item": 0,
          "n_items": 10,
          "name": "policy,  0.00032",
          "x": 0
         },
         {
          "id": 49,
          "item": 1,
          "n_items": 10,
          "name": "policy,  0.00032",
          "x": 0.1111111111111111
         },
         {
          "id": 49,
          "item": 2,
          "n_items": 10,
          "name": "policy,  0.00032",
          "x": 0.2222222222222222
         },
         {
          "id": 49,
          "item": 3,
          "n_items": 10,
          "name": "policy,  0.00032",
          "x": 0.3333333333333333
         },
         {
          "id": 49,
          "item": 4,
          "n_items": 10,
          "name": "policy,  0.00032",
          "x": 0.4444444444444444
         },
         {
          "id": 49,
          "item": 5,
          "n_items": 10,
          "name": "policy,  0.00032",
          "x": 0.5555555555555556
         },
         {
          "id": 49,
          "item": 6,
          "n_items": 10,
          "name": "policy,  0.00032",
          "x": 0.6666666666666666
         },
         {
          "id": 49,
          "item": 7,
          "n_items": 10,
          "name": "policy,  0.00032",
          "x": 0.7777777777777778
         },
         {
          "id": 49,
          "item": 8,
          "n_items": 10,
          "name": "policy,  0.00032",
          "x": 0.8888888888888888
         },
         {
          "id": 50,
          "item": 0,
          "n_items": 10,
          "name": "policy,  0.00032",
          "x": 0
         },
         {
          "id": 50,
          "item": 1,
          "n_items": 10,
          "name": "policy,  0.00032",
          "x": 0.1111111111111111
         },
         {
          "id": 50,
          "item": 2,
          "n_items": 10,
          "name": "policy,  0.00032",
          "x": 0.2222222222222222
         },
         {
          "id": 50,
          "item": 3,
          "n_items": 10,
          "name": "policy,  0.00032",
          "x": 0.3333333333333333
         },
         {
          "id": 50,
          "item": 4,
          "n_items": 10,
          "name": "policy,  0.00032",
          "x": 0.4444444444444444
         },
         {
          "id": 50,
          "item": 5,
          "n_items": 10,
          "name": "policy,  0.00032",
          "x": 0.5555555555555556
         },
         {
          "id": 50,
          "item": 6,
          "n_items": 10,
          "name": "policy,  0.00032",
          "x": 0.6666666666666666
         },
         {
          "id": 50,
          "item": 7,
          "n_items": 10,
          "name": "policy,  0.00032",
          "x": 0.7777777777777778
         },
         {
          "id": 50,
          "item": 8,
          "n_items": 10,
          "name": "policy,  0.00032",
          "x": 0.8888888888888888
         },
         {
          "id": 51,
          "item": 1,
          "n_items": 9,
          "name": "policy,  1.1e-06",
          "x": 0
         },
         {
          "id": 51,
          "item": 2,
          "n_items": 9,
          "name": "policy,  1.1e-06",
          "x": 0.125
         },
         {
          "id": 51,
          "item": 3,
          "n_items": 9,
          "name": "policy,  1.1e-06",
          "x": 0.25
         },
         {
          "id": 51,
          "item": 4,
          "n_items": 9,
          "name": "policy,  1.1e-06",
          "x": 0.375
         },
         {
          "id": 51,
          "item": 5,
          "n_items": 9,
          "name": "policy,  1.1e-06",
          "x": 0.5
         },
         {
          "id": 51,
          "item": 6,
          "n_items": 9,
          "name": "policy,  1.1e-06",
          "x": 0.625
         },
         {
          "id": 51,
          "item": 7,
          "n_items": 9,
          "name": "policy,  1.1e-06",
          "x": 0.75
         },
         {
          "id": 51,
          "item": 8,
          "n_items": 9,
          "name": "policy,  1.1e-06",
          "x": 0.875
         },
         {
          "id": 52,
          "item": 1,
          "n_items": 9,
          "name": "policy,  2e-06",
          "x": 0
         },
         {
          "id": 52,
          "item": 2,
          "n_items": 9,
          "name": "policy,  2e-06",
          "x": 0.125
         },
         {
          "id": 52,
          "item": 3,
          "n_items": 9,
          "name": "policy,  2e-06",
          "x": 0.25
         },
         {
          "id": 52,
          "item": 4,
          "n_items": 9,
          "name": "policy,  2e-06",
          "x": 0.375
         },
         {
          "id": 52,
          "item": 5,
          "n_items": 9,
          "name": "policy,  2e-06",
          "x": 0.5
         },
         {
          "id": 52,
          "item": 6,
          "n_items": 9,
          "name": "policy,  2e-06",
          "x": 0.625
         },
         {
          "id": 52,
          "item": 7,
          "n_items": 9,
          "name": "policy,  2e-06",
          "x": 0.75
         },
         {
          "id": 52,
          "item": 8,
          "n_items": 9,
          "name": "policy,  2e-06",
          "x": 0.875
         },
         {
          "id": 53,
          "item": 1,
          "n_items": 9,
          "name": "policy,  3.3e-06",
          "x": 0
         },
         {
          "id": 53,
          "item": 2,
          "n_items": 9,
          "name": "policy,  3.3e-06",
          "x": 0.125
         },
         {
          "id": 53,
          "item": 3,
          "n_items": 9,
          "name": "policy,  3.3e-06",
          "x": 0.25
         },
         {
          "id": 53,
          "item": 4,
          "n_items": 9,
          "name": "policy,  3.3e-06",
          "x": 0.375
         },
         {
          "id": 53,
          "item": 5,
          "n_items": 9,
          "name": "policy,  3.3e-06",
          "x": 0.5
         },
         {
          "id": 53,
          "item": 6,
          "n_items": 9,
          "name": "policy,  3.3e-06",
          "x": 0.625
         },
         {
          "id": 53,
          "item": 7,
          "n_items": 9,
          "name": "policy,  3.3e-06",
          "x": 0.75
         },
         {
          "id": 53,
          "item": 8,
          "n_items": 9,
          "name": "policy,  3.3e-06",
          "x": 0.875
         }
        ],
        "data-b2d478c6d0541c76c27222583288f733": [
         {
          "id": 1,
          "maximum": 0.4497723642004825,
          "minimum": 0.10034577106021471,
          "name": "b",
          "qp_lower": -1,
          "qp_upper": 0.059699459804317984,
          "x1": 0.10034577106021471,
          "x2": 0.4324672931111063
         },
         {
          "id": 2,
          "maximum": 0.4497723642004825,
          "minimum": 0.10034577106021471,
          "name": "b",
          "qp_lower": -1,
          "qp_upper": 0.0009032352320659043,
          "x1": 0.10034577106021471,
          "x2": 0.41572990968502294
         },
         {
          "id": 3,
          "maximum": 0.4497723642004825,
          "minimum": 0.10034577106021471,
          "name": "b",
          "qp_lower": -1,
          "qp_upper": 1.4729626625674373e-06,
          "x1": 0.10034577106021471,
          "x2": 0.39944801377811123
         },
         {
          "id": 4,
          "maximum": 0.4497723642004825,
          "minimum": 0.10034577106021471,
          "name": "b",
          "qp_lower": -1,
          "qp_upper": 3.088023695493791e-10,
          "x1": 0.10034577106021471,
          "x2": 0.38454543028727234
         },
         {
          "id": 5,
          "maximum": 0.4497723642004825,
          "minimum": 0.10034577106021471,
          "name": "b",
          "qp_lower": -1,
          "qp_upper": 8.31466398892592e-15,
          "x1": 0.10034577106021471,
          "x2": 0.37007201993762845
         },
         {
          "id": 6,
          "maximum": 0.4497723642004825,
          "minimum": 0.10034577106021471,
          "name": "b",
          "qp_lower": -1,
          "qp_upper": 2.9032830555992735e-20,
          "x1": 0.10034577106021471,
          "x2": 0.35663646028555923
         },
         {
          "id": 7,
          "maximum": 0.4497723642004825,
          "minimum": 0.10034577106021471,
          "name": "b",
          "qp_lower": -1,
          "qp_upper": 1.4303313485705912e-26,
          "x1": 0.10034577106021471,
          "x2": 0.34366906896754196
         },
         {
          "id": 8,
          "maximum": 0.4497723642004825,
          "minimum": 0.10034577106021471,
          "name": "b",
          "qp_lower": -1,
          "qp_upper": 1.2875877859535586e-33,
          "x1": 0.10034577106021471,
          "x2": 0.3313604419581565
         },
         {
          "id": 9,
          "maximum": 0.4497723642004825,
          "minimum": 0.10034577106021471,
          "name": "b",
          "qp_lower": -1,
          "qp_upper": 1.2152622758467689e-41,
          "x1": 0.10034577106021471,
          "x2": 0.3195011571421418
         },
         {
          "id": 10,
          "maximum": 0.4497723642004825,
          "minimum": 0.10034577106021471,
          "name": "b",
          "qp_lower": -1,
          "qp_upper": 3.195932495759928e-42,
          "x1": 0.10034577106021471,
          "x2": 0.3195011571421418
         },
         {
          "id": 10,
          "maximum": 4.499463252413809,
          "minimum": 2.0006885210918086,
          "name": "q",
          "qp_lower": -1,
          "qp_upper": 0.05073238108799609,
          "x1": 2.0006885210918086,
          "x2": 4.377678304985504
         },
         {
          "id": 11,
          "maximum": 0.4497723642004825,
          "minimum": 0.10034577106021471,
          "name": "b",
          "qp_lower": -1,
          "qp_upper": 5.030913761141184e-43,
          "x1": 0.10034577106021471,
          "x2": 0.3195011571421418
         },
         {
          "id": 11,
          "maximum": 4.499463252413809,
          "minimum": 2.0006885210918086,
          "name": "q",
          "qp_lower": -1,
          "qp_upper": 0.0005741444465009742,
          "x1": 2.0006885210918086,
          "x2": 4.264781370494644
         },
         {
          "id": 12,
          "maximum": 0.4497723642004825,
          "minimum": 0.10034577106021471,
          "name": "b",
          "qp_lower": -1,
          "qp_upper": 6.257698845982219e-44,
          "x1": 0.10034577106021471,
          "x2": 0.3195011571421418
         },
         {
          "id": 12,
          "maximum": 4.499463252413809,
          "minimum": 2.0006885210918086,
          "name": "q",
          "qp_lower": -1,
          "qp_upper": 5.832474047941009e-07,
          "x1": 2.0006885210918086,
          "x2": 4.156698056622126
         },
         {
          "id": 13,
          "maximum": 0.4497723642004825,
          "minimum": 0.10034577106021471,
          "name": "b",
          "qp_lower": -1,
          "qp_upper": 9.200319556085777e-43,
          "x1": 0.10034577106021471,
          "x2": 0.3195011571421418
         },
         {
          "id": 13,
          "maximum": 4.499463252413809,
          "minimum": 2.0006885210918086,
          "name": "q",
          "qp_lower": -1,
          "qp_upper": 6.616940991375051e-11,
          "x1": 2.0006885210918086,
          "x2": 4.029330117903944
         },
         {
          "id": 14,
          "maximum": 0.4497723642004825,
          "minimum": 0.10034577106021471,
          "name": "b",
          "qp_lower": -1,
          "qp_upper": 5.635308483071292e-43,
          "x1": 0.10034577106021471,
          "x2": 0.3195011571421418
         },
         {
          "id": 14,
          "maximum": 4.499463252413809,
          "minimum": 2.0006885210918086,
          "name": "q",
          "qp_lower": -1,
          "qp_upper": 6.767566385047431e-16,
          "x1": 2.0006885210918086,
          "x2": 3.925148595223849
         },
         {
          "id": 15,
          "maximum": 0.4497723642004825,
          "minimum": 0.10034577106021471,
          "name": "b",
          "qp_lower": -1,
          "qp_upper": 2.721171602187315e-43,
          "x1": 0.10034577106021471,
          "x2": 0.3195011571421418
         },
         {
          "id": 15,
          "maximum": 4.499463252413809,
          "minimum": 2.0006885210918086,
          "name": "q",
          "qp_lower": -1,
          "qp_upper": 6.12296771370559e-22,
          "x1": 2.0006885210918086,
          "x2": 3.8250730131638995
         },
         {
          "id": 16,
          "maximum": 0.4497723642004825,
          "minimum": 0.10034577106021471,
          "name": "b",
          "qp_lower": -1,
          "qp_upper": 5.0530712303219315e-52,
          "x1": 0.10034577106021471,
          "x2": 0.30915609987935344
         },
         {
          "id": 16,
          "maximum": 4.499463252413809,
          "minimum": 2.0006885210918086,
          "name": "q",
          "qp_lower": -1,
          "qp_upper": 1.3067583339388963e-22,
          "x1": 2.0006885210918086,
          "x2": 3.8250730131638995
         },
         {
          "id": 17,
          "maximum": 0.4497723642004825,
          "minimum": 0.10034577106021471,
          "name": "b",
          "qp_lower": -1,
          "qp_upper": 1.5435418264157917e-61,
          "x1": 0.10034577106021471,
          "x2": 0.2980649997188318
         },
         {
          "id": 17,
          "maximum": 4.499463252413809,
          "minimum": 2.0006885210918086,
          "name": "q",
          "qp_lower": -1,
          "qp_upper": 2.0252214081038685e-22,
          "x1": 2.0006885210918086,
          "x2": 3.8250730131638995
         },
         {
          "id": 18,
          "maximum": 0.4497723642004825,
          "minimum": 0.10034577106021471,
          "name": "b",
          "qp_lower": -1,
          "qp_upper": 3.105363978616582e-61,
          "x1": 0.10034577106021471,
          "x2": 0.2980649997188318
         },
         {
          "id": 18,
          "maximum": 4.499463252413809,
          "minimum": 2.0006885210918086,
          "name": "q",
          "qp_lower": -1,
          "qp_upper": 3.05323234649848e-29,
          "x1": 2.0006885210918086,
          "x2": 3.726534590725193
         },
         {
          "id": 19,
          "maximum": 0.4497723642004825,
          "minimum": 0.10034577106021471,
          "name": "b",
          "qp_lower": -1,
          "qp_upper": 6.967656896609177e-62,
          "x1": 0.10034577106021471,
          "x2": 0.2980649997188318
         },
         {
          "id": 19,
          "maximum": 4.499463252413809,
          "minimum": 2.0006885210918086,
          "name": "q",
          "qp_lower": -1,
          "qp_upper": 3.514963518904364e-37,
          "x1": 2.0006885210918086,
          "x2": 3.6384605883900942
         },
         {
          "id": 20,
          "maximum": 0.4497723642004825,
          "minimum": 0.10034577106021471,
          "name": "b",
          "qp_lower": -1,
          "qp_upper": 4.737812785452957e-62,
          "x1": 0.10034577106021471,
          "x2": 0.2980649997188318
         },
         {
          "id": 20,
          "maximum": 4.499463252413809,
          "minimum": 2.0006885210918086,
          "name": "q",
          "qp_lower": -1,
          "qp_upper": 4.970634061324956e-46,
          "x1": 2.0006885210918086,
          "x2": 3.5513519972432857
         },
         {
          "id": 21,
          "maximum": 0.4497723642004825,
          "minimum": 0.10034577106021471,
          "name": "b",
          "qp_lower": -1,
          "qp_upper": 2.5642806149799353e-61,
          "x1": 0.10034577106021471,
          "x2": 0.2980649997188318
         },
         {
          "id": 21,
          "maximum": 4.499463252413809,
          "minimum": 2.0006885210918086,
          "name": "q",
          "qp_lower": -1,
          "qp_upper": 9.657522877677824e-56,
          "x1": 2.0006885210918086,
          "x2": 3.4591936622101738
         },
         {
          "id": 22,
          "maximum": 0.4497723642004825,
          "minimum": 0.10034577106021471,
          "name": "b",
          "qp_lower": -1,
          "qp_upper": 5.332838739729099e-65,
          "x1": 0.10034577106021471,
          "x2": 0.2980649997188318
         },
         {
          "id": 22,
          "maximum": 4.499463252413809,
          "minimum": 2.0006885210918086,
          "name": "q",
          "qp_lower": -1,
          "qp_upper": 2.962756864095513e-66,
          "x1": 2.0006885210918086,
          "x2": 3.4091896991287607
         },
         {
          "id": 23,
          "maximum": 0.4497723642004825,
          "minimum": 0.10034577106021471,
          "name": "b",
          "qp_lower": -1,
          "qp_upper": 4.278904090227663e-65,
          "x1": 0.10034577106021471,
          "x2": 0.2980649997188318
         },
         {
          "id": 23,
          "maximum": 4.499463252413809,
          "minimum": 2.0006885210918086,
          "name": "q",
          "qp_lower": -1,
          "qp_upper": 3.784210795269066e-77,
          "x1": 2.0006885210918086,
          "x2": 3.332103377625452
         },
         {
          "id": 24,
          "maximum": 0.4497723642004825,
          "minimum": 0.10034577106021471,
          "name": "b",
          "qp_lower": -1,
          "qp_upper": 2.1828111220175585e-65,
          "x1": 0.10034577106021471,
          "x2": 0.2980649997188318
         },
         {
          "id": 24,
          "maximum": 4.499463252413809,
          "minimum": 2.0006885210918086,
          "name": "q",
          "qp_lower": -1,
          "qp_upper": 6.384595762876975e-90,
          "x1": 2.0006885210918086,
          "x2": 3.2561076602294916
         },
         {
          "id": 25,
          "maximum": 0.4497723642004825,
          "minimum": 0.10034577106021471,
          "name": "b",
          "qp_lower": -1,
          "qp_upper": 1.5187870028570408e-76,
          "x1": 0.10034577106021471,
          "x2": 0.2866295355017411
         },
         {
          "id": 25,
          "maximum": 4.499463252413809,
          "minimum": 2.0006885210918086,
          "name": "q",
          "qp_lower": -1,
          "qp_upper": 7.5025633302157995e-90,
          "x1": 2.0006885210918086,
          "x2": 3.2561076602294916
         },
         {
          "id": 26,
          "maximum": 0.4497723642004825,
          "minimum": 0.10034577106021471,
          "name": "b",
          "qp_lower": -1,
          "qp_upper": 3.865966428490869e-89,
          "x1": 0.10034577106021471,
          "x2": 0.2763855960807976
         },
         {
          "id": 26,
          "maximum": 4.499463252413809,
          "minimum": 2.0006885210918086,
          "name": "q",
          "qp_lower": -1,
          "qp_upper": 4.337369327112541e-90,
          "x1": 2.0006885210918086,
          "x2": 3.2561076602294916
         },
         {
          "id": 27,
          "maximum": 0.4497723642004825,
          "minimum": 0.10034577106021471,
          "name": "b",
          "qp_lower": -1,
          "qp_upper": 2.6738744809129496e-85,
          "x1": 0.10034577106021471,
          "x2": 0.2763855960807976
         },
         {
          "id": 27,
          "maximum": 4.499463252413809,
          "minimum": 2.0006885210918086,
          "name": "q",
          "qp_lower": -1,
          "qp_upper": 1.7372631499006189e-102,
          "x1": 2.0006885210918086,
          "x2": 3.167335767115062
         },
         {
          "id": 28,
          "maximum": 0.4497723642004825,
          "minimum": 0.10034577106021471,
          "name": "b",
          "qp_lower": -1,
          "qp_upper": 9.818977202899768e-88,
          "x1": 0.10034577106021471,
          "x2": 0.2763855960807976
         },
         {
          "id": 28,
          "maximum": 4.499463252413809,
          "minimum": 2.0006885210918086,
          "name": "q",
          "qp_lower": -1,
          "qp_upper": 2.665469760607262e-117,
          "x1": 2.0006885210918086,
          "x2": 3.1098601562707824
         },
         {
          "id": 29,
          "maximum": 0.4497723642004825,
          "minimum": 0.10034577106021471,
          "name": "b",
          "qp_lower": -1,
          "qp_upper": 9.297511533768555e-86,
          "x1": 0.10034577106021471,
          "x2": 0.2763855960807976
         },
         {
          "id": 29,
          "maximum": 4.499463252413809,
          "minimum": 2.0006885210918086,
          "name": "q",
          "qp_lower": -1,
          "qp_upper": 3.374776202199088e-129,
          "x1": 2.0006885210918086,
          "x2": 3.0396362910350234
         },
         {
          "id": 30,
          "maximum": 0.4497723642004825,
          "minimum": 0.10034577106021471,
          "name": "b",
          "qp_lower": -1,
          "qp_upper": 9.49192221030194e-96,
          "x1": 0.10034577106021471,
          "x2": 0.2679842384887757
         },
         {
          "id": 30,
          "maximum": 4.499463252413809,
          "minimum": 2.0006885210918086,
          "name": "q",
          "qp_lower": -1,
          "qp_upper": 2.086730227317405e-130,
          "x1": 2.0006885210918086,
          "x2": 3.0396362910350234
         },
         {
          "id": 31,
          "maximum": 0.4497723642004825,
          "minimum": 0.10034577106021471,
          "name": "b",
          "qp_lower": -1,
          "qp_upper": 2.8464982670751495e-96,
          "x1": 0.10034577106021471,
          "x2": 0.2679842384887757
         },
         {
          "id": 31,
          "maximum": 4.499463252413809,
          "minimum": 2.0006885210918086,
          "name": "q",
          "qp_lower": -1,
          "qp_upper": 9.427438515075566e-131,
          "x1": 2.0006885210918086,
          "x2": 3.0396362910350234
         },
         {
          "id": 32,
          "maximum": 0.4497723642004825,
          "minimum": 0.10034577106021471,
          "name": "b",
          "qp_lower": -1,
          "qp_upper": 1.0169449555994131e-94,
          "x1": 0.10034577106021471,
          "x2": 0.2679842384887757
         },
         {
          "id": 32,
          "maximum": 4.499463252413809,
          "minimum": 2.0006885210918086,
          "name": "q",
          "qp_lower": -1,
          "qp_upper": 8.629330201728997e-141,
          "x1": 2.0006885210918086,
          "x2": 2.9772444554194264
         },
         {
          "id": 33,
          "maximum": 0.4497723642004825,
          "minimum": 0.10034577106021471,
          "name": "b",
          "qp_lower": -1,
          "qp_upper": 5.595470161365553e-100,
          "x1": 0.10034577106021471,
          "x2": 0.2679842384887757
         },
         {
          "id": 33,
          "maximum": 4.499463252413809,
          "minimum": 2.0006885210918086,
          "name": "q",
          "qp_lower": -1,
          "qp_upper": 2.1427550761148586e-151,
          "x1": 2.0006885210918086,
          "x2": 2.9472121789543477
         },
         {
          "id": 34,
          "maximum": 0.4497723642004825,
          "minimum": 0.10034577106021471,
          "name": "b",
          "qp_lower": -1,
          "qp_upper": 1.2635055816037124e-108,
          "x1": 0.10034577106021471,
          "x2": 0.2578031569278465
         },
         {
          "id": 34,
          "maximum": 4.499463252413809,
          "minimum": 2.0006885210918086,
          "name": "q",
          "qp_lower": -1,
          "qp_upper": 5.219902136014089e-149,
          "x1": 2.0006885210918086,
          "x2": 2.9472121789543477
         },
         {
          "id": 35,
          "maximum": 0.4497723642004825,
          "minimum": 0.10034577106021471,
          "name": "b",
          "qp_lower": -1,
          "qp_upper": 1.1947859640980094e-118,
          "x1": 0.10034577106021471,
          "x2": 0.24983722618626025
         },
         {
          "id": 35,
          "maximum": 4.499463252413809,
          "minimum": 2.0006885210918086,
          "name": "q",
          "qp_lower": -1,
          "qp_upper": 1.674692053711684e-149,
          "x1": 2.0006885210918086,
          "x2": 2.9472121789543477
         },
         {
          "id": 36,
          "maximum": 0.4497723642004825,
          "minimum": 0.10034577106021471,
          "name": "b",
          "qp_lower": -1,
          "qp_upper": 4.668730519202075e-120,
          "x1": 0.10034577106021471,
          "x2": 0.24983722618626025
         },
         {
          "id": 36,
          "maximum": 4.499463252413809,
          "minimum": 2.0006885210918086,
          "name": "q",
          "qp_lower": -1,
          "qp_upper": 1.028803380274442e-158,
          "x1": 2.0006885210918086,
          "x2": 2.9025373637642664
         },
         {
          "id": 37,
          "maximum": 0.4497723642004825,
          "minimum": 0.10034577106021471,
          "name": "b",
          "qp_lower": -1,
          "qp_upper": 2.5771761067879343e-122,
          "x1": 0.10034577106021471,
          "x2": 0.24983722618626025
         },
         {
          "id": 37,
          "maximum": 4.499463252413809,
          "minimum": 2.0006885210918086,
          "name": "q",
          "qp_lower": -1,
          "qp_upper": 8.099222355147052e-175,
          "x1": 2.0006885210918086,
          "x2": 2.8545604155357376
         },
         {
          "id": 38,
          "maximum": 0.4497723642004825,
          "minimum": 0.10034577106021471,
          "name": "b",
          "qp_lower": -1,
          "qp_upper": 4.5365756509906315e-124,
          "x1": 0.10034577106021471,
          "x2": 0.24983722618626025
         },
         {
          "id": 38,
          "maximum": 4.499463252413809,
          "minimum": 2.0006885210918086,
          "name": "q",
          "qp_lower": -1,
          "qp_upper": 2.706487909750995e-186,
          "x1": 2.0006885210918086,
          "x2": 2.8116802868902226
         },
         {
          "id": 39,
          "maximum": 0.4497723642004825,
          "minimum": 0.10034577106021471,
          "name": "b",
          "qp_lower": -1,
          "qp_upper": 2.067244460364869e-119,
          "x1": 0.10034577106021471,
          "x2": 0.24983722618626025
         },
         {
          "id": 39,
          "maximum": 4.499463252413809,
          "minimum": 2.0006885210918086,
          "name": "q",
          "qp_lower": -1,
          "qp_upper": 2.6945847247615527e-195,
          "x1": 2.0006885210918086,
          "x2": 2.7508443253304953
         },
         {
          "id": 40,
          "maximum": 0.4497723642004825,
          "minimum": 0.10034577106021471,
          "name": "b",
          "qp_lower": -1,
          "qp_upper": 2.4687608605253397e-119,
          "x1": 0.10034577106021471,
          "x2": 0.24983722618626025
         },
         {
          "id": 40,
          "maximum": 4.499463252413809,
          "minimum": 2.0006885210918086,
          "name": "q",
          "qp_lower": -1,
          "qp_upper": 4.198260234694204e-204,
          "x1": 2.0006885210918086,
          "x2": 2.710643095461307
         },
         {
          "id": 41,
          "maximum": 0.4497723642004825,
          "minimum": 0.10034577106021471,
          "name": "b",
          "qp_lower": -1,
          "qp_upper": 1.2935636884483402e-114,
          "x1": 0.10034577106021471,
          "x2": 0.24983722618626025
         },
         {
          "id": 41,
          "maximum": 0.04998242515590246,
          "minimum": 0.010032916771441141,
          "name": "mean",
          "qp_lower": 0.07450666924541978,
          "qp_upper": -1,
          "x1": 0.012827789145073428,
          "x2": 0.04998242515590246
         },
         {
          "id": 41,
          "maximum": 4.499463252413809,
          "minimum": 2.0006885210918086,
          "name": "q",
          "qp_lower": -1,
          "qp_upper": 9.277697933452732e-202,
          "x1": 2.0006885210918086,
          "x2": 2.710643095461307
         },
         {
          "id": 42,
          "maximum": 0.4497723642004825,
          "minimum": 0.10034577106021471,
          "name": "b",
          "qp_lower": -1,
          "qp_upper": 4.234829257051106e-118,
          "x1": 0.10034577106021471,
          "x2": 0.24983722618626025
         },
         {
          "id": 42,
          "maximum": 0.04998242515590246,
          "minimum": 0.010032916771441141,
          "name": "mean",
          "qp_lower": 0.0006381241046709702,
          "qp_upper": -1,
          "x1": 0.014388084418602612,
          "x2": 0.04998242515590246
         },
         {
          "id": 42,
          "maximum": 4.499463252413809,
          "minimum": 2.0006885210918086,
          "name": "q",
          "qp_lower": -1,
          "qp_upper": 2.2071561219683552e-203,
          "x1": 2.0006885210918086,
          "x2": 2.710643095461307
         },
         {
          "id": 43,
          "maximum": 0.4497723642004825,
          "minimum": 0.10034577106021471,
          "name": "b",
          "qp_lower": -1,
          "qp_upper": 9.656592086137684e-116,
          "x1": 0.10034577106021471,
          "x2": 0.24983722618626025
         },
         {
          "id": 43,
          "maximum": 0.04998242515590246,
          "minimum": 0.010032916771441141,
          "name": "mean",
          "qp_lower": 5.672210343283386e-06,
          "qp_upper": -1,
          "x1": 0.015993600106107134,
          "x2": 0.04998242515590246
         },
         {
          "id": 43,
          "maximum": 4.499463252413809,
          "minimum": 2.0006885210918086,
          "name": "q",
          "qp_lower": -1,
          "qp_upper": 1.771292427163773e-204,
          "x1": 2.0006885210918086,
          "x2": 2.710643095461307
         },
         {
          "id": 44,
          "maximum": 0.4497723642004825,
          "minimum": 0.10034577106021471,
          "name": "b",
          "qp_lower": -1,
          "qp_upper": 3.1556413213217397e-121,
          "x1": 0.10034577106021471,
          "x2": 0.2393304848462906
         },
         {
          "id": 44,
          "maximum": 0.04998242515590246,
          "minimum": 0.010032916771441141,
          "name": "mean",
          "qp_lower": 1.916397043583249e-05,
          "qp_upper": -1,
          "x1": 0.015993600106107134,
          "x2": 0.04998242515590246
         },
         {
          "id": 44,
          "maximum": 4.499463252413809,
          "minimum": 2.0006885210918086,
          "name": "q",
          "qp_lower": -1,
          "qp_upper": 7.018684155425059e-198,
          "x1": 2.0006885210918086,
          "x2": 2.710643095461307
         },
         {
          "id": 45,
          "maximum": 0.4497723642004825,
          "minimum": 0.10034577106021471,
          "name": "b",
          "qp_lower": -1,
          "qp_upper": 8.894479855513919e-124,
          "x1": 0.10034577106021471,
          "x2": 0.2393304848462906
         },
         {
          "id": 45,
          "maximum": 0.04998242515590246,
          "minimum": 0.010032916771441141,
          "name": "mean",
          "qp_lower": 6.008101667718624e-08,
          "qp_upper": -1,
          "x1": 0.017067699965009293,
          "x2": 0.04998242515590246
         },
         {
          "id": 45,
          "maximum": 4.499463252413809,
          "minimum": 2.0006885210918086,
          "name": "q",
          "qp_lower": -1,
          "qp_upper": 1.3858509839974773e-200,
          "x1": 2.0006885210918086,
          "x2": 2.710643095461307
         },
         {
          "id": 46,
          "maximum": 0.4497723642004825,
          "minimum": 0.10034577106021471,
          "name": "b",
          "qp_lower": -1,
          "qp_upper": 2.713187454488912e-122,
          "x1": 0.10034577106021471,
          "x2": 0.2393304848462906
         },
         {
          "id": 46,
          "maximum": 0.04998242515590246,
          "minimum": 0.010032916771441141,
          "name": "mean",
          "qp_lower": 4.9561510511564855e-11,
          "qp_upper": -1,
          "x1": 0.018920284439344324,
          "x2": 0.04998242515590246
         },
         {
          "id": 46,
          "maximum": 4.499463252413809,
          "minimum": 2.0006885210918086,
          "name": "q",
          "qp_lower": -1,
          "qp_upper": 8.392760225031164e-197,
          "x1": 2.0006885210918086,
          "x2": 2.710643095461307
         },
         {
          "id": 47,
          "maximum": 0.4497723642004825,
          "minimum": 0.10034577106021471,
          "name": "b",
          "qp_lower": -1,
          "qp_upper": 9.50358646815378e-110,
          "x1": 0.10034577106021471,
          "x2": 0.2393304848462906
         },
         {
          "id": 47,
          "maximum": 0.04998242515590246,
          "minimum": 0.010032916771441141,
          "name": "mean",
          "qp_lower": 2.021598029243552e-10,
          "qp_upper": -1,
          "x1": 0.018920284439344324,
          "x2": 0.04998242515590246
         },
         {
          "id": 47,
          "maximum": 4.499463252413809,
          "minimum": 2.0006885210918086,
          "name": "q",
          "qp_lower": -1,
          "qp_upper": 1.0132947631948813e-197,
          "x1": 2.0006885210918086,
          "x2": 2.6413546092386797
         },
         {
          "id": 48,
          "maximum": 0.4497723642004825,
          "minimum": 0.10034577106021471,
          "name": "b",
          "qp_lower": -1,
          "qp_upper": 3.8453296114053775e-97,
          "x1": 0.10034577106021471,
          "x2": 0.2393304848462906
         },
         {
          "id": 48,
          "maximum": 0.04998242515590246,
          "minimum": 0.010032916771441141,
          "name": "mean",
          "qp_lower": 8.696660470615316e-13,
          "qp_upper": -1,
          "x1": 0.021878469715600556,
          "x2": 0.04998242515590246
         },
         {
          "id": 48,
          "maximum": 4.499463252413809,
          "minimum": 2.0006885210918086,
          "name": "q",
          "qp_lower": -1,
          "qp_upper": 1.4101330389644125e-189,
          "x1": 2.0006885210918086,
          "x2": 2.6413546092386797
         },
         {
          "id": 49,
          "maximum": 0.4497723642004825,
          "minimum": 0.10034577106021471,
          "name": "b",
          "qp_lower": -1,
          "qp_upper": 3.1277988803987477e-94,
          "x1": 0.10034577106021471,
          "x2": 0.2393304848462906
         },
         {
          "id": 49,
          "maximum": 0.04998242515590246,
          "minimum": 0.010032916771441141,
          "name": "mean",
          "qp_lower": 2.4849466847418575e-16,
          "qp_upper": -1,
          "x1": 0.024442556700857626,
          "x2": 0.04998242515590246
         },
         {
          "id": 49,
          "maximum": 4.499463252413809,
          "minimum": 2.0006885210918086,
          "name": "q",
          "qp_lower": -1,
          "qp_upper": 1.2388036259954403e-179,
          "x1": 2.0006885210918086,
          "x2": 2.6413546092386797
         },
         {
          "id": 50,
          "maximum": 0.4497723642004825,
          "minimum": 0.10034577106021471,
          "name": "b",
          "qp_lower": -1,
          "qp_upper": 2.3361800053295846e-93,
          "x1": 0.10034577106021471,
          "x2": 0.2393304848462906
         },
         {
          "id": 50,
          "maximum": 0.04998242515590246,
          "minimum": 0.010032916771441141,
          "name": "mean",
          "qp_lower": 7.489704384329953e-16,
          "qp_upper": -1,
          "x1": 0.024442556700857626,
          "x2": 0.04998242515590246
         },
         {
          "id": 50,
          "maximum": 4.499463252413809,
          "minimum": 2.0006885210918086,
          "name": "q",
          "qp_lower": -1,
          "qp_upper": 7.721098981335749e-181,
          "x1": 2.0006885210918086,
          "x2": 2.6115999756824797
         },
         {
          "id": 51,
          "maximum": 0.4497723642004825,
          "minimum": 0.10034577106021471,
          "name": "b",
          "qp_lower": -1,
          "qp_upper": 2.456333196342619e-88,
          "x1": 0.10034577106021471,
          "x2": 0.2393304848462906
         },
         {
          "id": 51,
          "maximum": 0.04998242515590246,
          "minimum": 0.010032916771441141,
          "name": "mean",
          "qp_lower": 4.076393205014145e-15,
          "qp_upper": -1,
          "x1": 0.024442556700857626,
          "x2": 0.04998242515590246
         },
         {
          "id": 51,
          "maximum": 4.499463252413809,
          "minimum": 2.0006885210918086,
          "name": "q",
          "qp_lower": -1,
          "qp_upper": 9.260603227891927e-169,
          "x1": 2.0006885210918086,
          "x2": 2.6115999756824797
         },
         {
          "id": 52,
          "maximum": 0.4497723642004825,
          "minimum": 0.10034577106021471,
          "name": "b",
          "qp_lower": -1,
          "qp_upper": 5.166722276226154e-87,
          "x1": 0.10034577106021471,
          "x2": 0.23534089664476487
         },
         {
          "id": 52,
          "maximum": 0.04998242515590246,
          "minimum": 0.010032916771441141,
          "name": "mean",
          "qp_lower": 5.077723824315407e-15,
          "qp_upper": -1,
          "x1": 0.024442556700857626,
          "x2": 0.04998242515590246
         },
         {
          "id": 52,
          "maximum": 4.499463252413809,
          "minimum": 2.0006885210918086,
          "name": "q",
          "qp_lower": -1,
          "qp_upper": 8.828082057228919e-165,
          "x1": 2.0006885210918086,
          "x2": 2.6115999756824797
         },
         {
          "id": 53,
          "maximum": 0.4497723642004825,
          "minimum": 0.10034577106021471,
          "name": "b",
          "qp_lower": -1,
          "qp_upper": 8.151437387950234e-83,
          "x1": 0.10034577106021471,
          "x2": 0.23534089664476487
         },
         {
          "id": 53,
          "maximum": 0.04998242515590246,
          "minimum": 0.010032916771441141,
          "name": "mean",
          "qp_lower": 1.1962843745145257e-12,
          "qp_upper": -1,
          "x1": 0.024442556700857626,
          "x2": 0.04998242515590246
         },
         {
          "id": 53,
          "maximum": 4.499463252413809,
          "minimum": 2.0006885210918086,
          "name": "q",
          "qp_lower": -1,
          "qp_upper": 2.807094020669771e-160,
          "x1": 2.0006885210918086,
          "x2": 2.5617108538392
         }
        ],
        "data-bb8d07f6df3d47a6a475317795287b23": [
         {
          "end": 1,
          "start": 0
         }
        ]
       },
       "vconcat": [
        {
         "data": {
          "name": "data-0ca5224484f84445bef132a37251c5bf"
         },
         "encoding": {
          "color": {
           "field": "res_dim",
           "scale": {
            "range": [
             "#eff9b6",
             "#d0edb3",
             "#97d6b9",
             "#5dc0c0",
             "#31a5c2",
             "#1f80b8",
             "#2354a3",
             "#21318d"
            ]
           },
           "type": "ordinal"
          },
          "opacity": {
           "condition": {
            "selection": "selector001",
            "value": 1
           },
           "value": 0.4
          },
          "tooltip": [
           {
            "field": "id",
            "type": "ordinal"
           },
           {
            "field": "coverage",
            "format": ".2",
            "type": "quantitative"
           },
           {
            "field": "density",
            "format": ".2",
            "type": "quantitative"
           },
           {
            "field": "res_dim",
            "type": "ordinal"
           }
          ],
          "x": {
           "field": "coverage",
           "type": "quantitative"
          },
          "y": {
           "field": "density",
           "type": "quantitative"
          }
         },
         "height": 400,
         "mark": {
          "size": 75,
          "type": "circle"
         },
         "selection": {
          "selector001": {
           "empty": "all",
           "fields": [
            "id"
           ],
           "on": "click",
           "resolve": "global",
           "type": "single"
          }
         },
         "width": 400
        },
        {
         "layer": [
          {
           "data": {
            "name": "data-b2d478c6d0541c76c27222583288f733"
           },
           "encoding": {
            "x": {
             "axis": {
              "grid": false,
              "labels": false,
              "title": "box limits"
             },
             "field": "x_lower",
             "scale": {
              "domain": [
               0,
               1
              ],
              "padding": 0.1
             },
             "type": "quantitative"
            },
            "x2": {
             "field": "x_upper",
             "type": "quantitative"
            },
            "y": {
             "field": "name",
             "scale": {
              "padding": 1
             },
             "type": "nominal"
            }
           },
           "mark": "rule",
           "transform": [
            {
             "as": "x_lower",
             "calculate": "(datum.x1-datum.minimum)/(datum.maximum-datum.minimum)"
            },
            {
             "as": "x_upper",
             "calculate": "(datum.x2-datum.minimum)/(datum.maximum-datum.minimum)"
            },
            {
             "filter": {
              "selection": "selector001"
             }
            }
           ],
           "width": 400
          },
          {
           "data": {
            "name": "data-b2d478c6d0541c76c27222583288f733"
           },
           "encoding": {
            "text": {
             "field": "text",
             "type": "ordinal"
            },
            "x": {
             "axis": {
              "grid": false,
              "labels": false,
              "title": "box limits"
             },
             "field": "x_lower",
             "scale": {
              "domain": [
               0,
               1
              ],
              "padding": 0.1
             },
             "type": "quantitative"
            },
            "x2": {
             "field": "x_upper",
             "type": "quantitative"
            },
            "y": {
             "field": "name",
             "scale": {
              "padding": 1
             },
             "type": "nominal"
            }
           },
           "mark": {
            "align": "left",
            "baseline": "top",
            "dy": 5,
            "type": "text"
           },
           "transform": [
            {
             "as": "x_lower",
             "calculate": "(datum.x1-datum.minimum)/(datum.maximum-datum.minimum)"
            },
            {
             "as": "x_upper",
             "calculate": "(datum.x2-datum.minimum)/(datum.maximum-datum.minimum)"
            },
            {
             "filter": {
              "selection": "selector001"
             }
            },
            {
             "as": "text",
             "calculate": "datum.qp_lower>0?format(datum.x1, \".2\")+\" (\"+format(datum.qp_lower, \".1~g\")+\")\" :format(datum.x1, \".2\")"
            }
           ],
           "width": 400
          },
          {
           "data": {
            "name": "data-b2d478c6d0541c76c27222583288f733"
           },
           "encoding": {
            "text": {
             "field": "text",
             "type": "ordinal"
            },
            "x": {
             "field": "x_upper",
             "type": "quantitative"
            },
            "x2": {
             "field": "x_upper",
             "type": "quantitative"
            },
            "y": {
             "field": "name",
             "scale": {
              "padding": 1
             },
             "type": "nominal"
            }
           },
           "mark": {
            "align": "right",
            "baseline": "top",
            "dy": 5,
            "type": "text"
           },
           "transform": [
            {
             "as": "x_lower",
             "calculate": "(datum.x1-datum.minimum)/(datum.maximum-datum.minimum)"
            },
            {
             "as": "x_upper",
             "calculate": "(datum.x2-datum.minimum)/(datum.maximum-datum.minimum)"
            },
            {
             "filter": {
              "selection": "selector001"
             }
            },
            {
             "as": "text",
             "calculate": "datum.qp_upper>0?format(datum.x2, \".2\")+\" (\"+format(datum.qp_upper, \".1\")+\")\" :format(datum.x2, \".2\")"
            }
           ],
           "width": 400
          },
          {
           "data": {
            "name": "data-bb8d07f6df3d47a6a475317795287b23"
           },
           "encoding": {
            "x": {
             "field": "start",
             "type": "quantitative"
            },
            "x2": {
             "field": "end",
             "type": "quantitative"
            }
           },
           "mark": {
            "opacity": 0.05,
            "type": "rect"
           }
          },
          {
           "data": {
            "name": "data-7d69e1f67461d0db6b9ddc11768811c2"
           },
           "encoding": {
            "x": {
             "field": "x",
             "type": "quantitative"
            },
            "y": {
             "field": "name",
             "type": "nominal"
            }
           },
           "mark": "point",
           "transform": [
            {
             "filter": {
              "selection": "selector001"
             }
            }
           ],
           "width": 400
          },
          {
           "data": {
            "name": "data-7d69e1f67461d0db6b9ddc11768811c2"
           },
           "encoding": {
            "text": {
             "field": "item",
             "type": "nominal"
            },
            "x": {
             "field": "x",
             "type": "quantitative"
            },
            "y": {
             "field": "name",
             "type": "nominal"
            }
           },
           "mark": {
            "align": "center",
            "baseline": "top",
            "dy": 5,
            "type": "text"
           },
           "transform": [
            {
             "filter": {
              "selection": "selector001"
             }
            }
           ],
           "width": 400
          }
         ]
        }
       ]
      },
      "image/png": "[encoded data removed]",
      "text/plain": [
       "<VegaLite 2 object>\n",
       "\n",
       "If you see this message, it means the renderer has not been properly enabled\n",
       "for the frontend that you are using. For more information, see\n",
       "https://altair-viz.github.io/user_guide/troubleshooting.html\n"
      ]
     },
     "execution_count": 16,
     "metadata": {},
     "output_type": "execute_result"
    }
   ],
   "source": [
    "box1.inspect_tradeoff()"
   ]
  },
  {
   "cell_type": "code",
   "execution_count": null,
   "metadata": {},
   "outputs": [],
   "source": []
  },
  {
   "cell_type": "markdown",
   "metadata": {},
   "source": [
    "## Visualize the results using Dimensional Stacking\n",
    "Take the classification of outcomes as used in step 3 of scenario discovery, and instead visualize the results using dimensional stacking. How do these results compare to the insights from scenario discovery?"
   ]
  },
  {
   "cell_type": "code",
   "execution_count": null,
   "metadata": {},
   "outputs": [],
   "source": []
  },
  {
   "cell_type": "code",
   "execution_count": 14,
   "metadata": {},
   "outputs": [],
   "source": [
    "from ema_workbench.analysis import dimensional_stacking"
   ]
  },
  {
   "cell_type": "code",
   "execution_count": 15,
   "metadata": {},
   "outputs": [
    {
     "name": "stderr",
     "output_type": "stream",
     "text": [
      "[MainProcess/INFO] model dropped from analysis because only a single category\n"
     ]
    },
    {
     "data": {
      "image/png": "[encoded data removed]",
      "text/plain": [
       "<Figure size 720x720 with 4 Axes>"
      ]
     },
     "metadata": {},
     "output_type": "display_data"
    }
   ],
   "source": [
    "dimensional_stacking.create_pivot_plot(cleaned_experiments, y)\n",
    "plt.show()"
   ]
  },
  {
   "cell_type": "markdown",
   "metadata": {},
   "source": [
    "looking at this graph, we have a few white spaces, so there is an argument to be made that we should run quite a bit more than 1000 runs."
   ]
  },
  {
   "cell_type": "code",
   "execution_count": 23,
   "metadata": {},
   "outputs": [
    {
     "name": "stderr",
     "output_type": "stream",
     "text": [
      "[MainProcess/INFO] pool started\n",
      "[MainProcess/INFO] performing 10000 scenarios * 10 policies * 1 model(s) = 100000 experiments\n",
      "[MainProcess/INFO] 10000 cases completed\n",
      "[MainProcess/INFO] 20000 cases completed\n",
      "[MainProcess/INFO] 30000 cases completed\n",
      "[MainProcess/INFO] 40000 cases completed\n",
      "[MainProcess/INFO] 50000 cases completed\n",
      "[MainProcess/INFO] 60000 cases completed\n",
      "[MainProcess/INFO] 70000 cases completed\n",
      "[MainProcess/INFO] 80000 cases completed\n",
      "[MainProcess/INFO] 90000 cases completed\n",
      "[MainProcess/INFO] 100000 cases completed\n",
      "[MainProcess/INFO] experiments finished\n",
      "[MainProcess/INFO] terminating pool\n"
     ]
    }
   ],
   "source": [
    "n_scenarios = 10000\n",
    "n_policies = 10\n",
    "\n",
    "with MultiprocessingEvaluator(lake_model) as evaluator:\n",
    "    results = evaluator.perform_experiments(n_scenarios, n_policies)"
   ]
  },
  {
   "cell_type": "code",
   "execution_count": 24,
   "metadata": {},
   "outputs": [
    {
     "name": "stderr",
     "output_type": "stream",
     "text": [
      "[MainProcess/INFO] model dropped from analysis because only a single category\n"
     ]
    },
    {
     "data": {
      "image/png": "[encoded data removed]",
      "text/plain": [
       "<Figure size 720x720 with 4 Axes>"
      ]
     },
     "metadata": {},
     "output_type": "display_data"
    }
   ],
   "source": [
    "experiments, outcomes = results\n",
    "cleaned_experiments = experiments.drop(labels=[l.name for l in lake_model.levers], axis=1)\n",
    "\n",
    "data = outcomes['reliability']\n",
    "y = data < np.percentile(data, 10)\n",
    "\n",
    "dimensional_stacking.create_pivot_plot(cleaned_experiments, y)\n",
    "plt.show()"
   ]
  },
  {
   "cell_type": "code",
   "execution_count": null,
   "metadata": {},
   "outputs": [],
   "source": []
  }
 ],
 "metadata": {
  "kernelspec": {
   "display_name": "Python 3",
   "language": "python",
   "name": "python3"
  },
  "language_info": {
   "codemirror_mode": {
    "name": "ipython",
    "version": 3
   },
   "file_extension": ".py",
   "mimetype": "text/x-python",
   "name": "python",
   "nbconvert_exporter": "python",
   "pygments_lexer": "ipython3",
   "version": "3.7.3"
  }
 },
 "nbformat": 4,
 "nbformat_minor": 2
}
